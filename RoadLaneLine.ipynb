{
 "cells": [
  {
   "cell_type": "markdown",
   "id": "5f2694f4",
   "metadata": {},
   "source": [
    "#### Required Libraries"
   ]
  },
  {
   "cell_type": "code",
   "execution_count": 1,
   "id": "eedb96de",
   "metadata": {
    "scrolled": true
   },
   "outputs": [],
   "source": [
    "import cv2\n",
    "import numpy as np\n",
    "import math\n",
    "import matplotlib.pyplot as plt"
   ]
  },
  {
   "cell_type": "markdown",
   "id": "b56a99ef",
   "metadata": {},
   "source": [
    "#### Detecting the lanes"
   ]
  },
  {
   "cell_type": "code",
   "execution_count": 2,
   "id": "96e35263",
   "metadata": {},
   "outputs": [],
   "source": [
    "def region_of_interest(image):\n",
    "    height=image.shape[0]\n",
    "    triangle=np.array([[(250,height),(1000,height),(550,250)]])\n",
    "    region=np.zeros_like(image)\n",
    "    cv2.fillPoly(region,triangle,255)\n",
    "    dup=cv2.bitwise_and(image,region)\n",
    "    return dup"
   ]
  },
  {
   "cell_type": "markdown",
   "id": "c9d9339b",
   "metadata": {},
   "source": [
    "#### Detecting Straight Lines"
   ]
  },
  {
   "cell_type": "code",
   "execution_count": 3,
   "id": "f73805f4",
   "metadata": {},
   "outputs": [],
   "source": [
    "def display_lines(image,lines):\n",
    "    line_image=np.zeros_like(image)\n",
    "    if lines is not None:\n",
    "        for line in lines:\n",
    "            x1,y1,x2,y2=line.reshape(4)\n",
    "            cv2.line(line_image,(x1,y1),(x2,y2),(0,255,0),10)\n",
    "    return line_image"
   ]
  },
  {
   "cell_type": "markdown",
   "id": "9011baa1",
   "metadata": {},
   "source": [
    "#### Optimizing the lines"
   ]
  },
  {
   "cell_type": "code",
   "execution_count": 4,
   "id": "c3a28592",
   "metadata": {},
   "outputs": [],
   "source": [
    "val1=[]\n",
    "val2=[]\n",
    "def default(left, right):\n",
    "    globals()['val1']=left\n",
    "    globals()['val2']=right\n",
    "        \n",
    "\n",
    "def averaged_slope_intercept(image,lines):\n",
    "    left_fit=[]\n",
    "    right_fit=[]\n",
    "    for line in lines:\n",
    "        x1,y1,x2,y2=line.reshape(4)\n",
    "        parameters=np.polyfit((x1,x2),(y1,y2),1)\n",
    "        slope=parameters[0]\n",
    "        intercept=parameters[1]\n",
    "        if slope<0:\n",
    "            left_fit.append((slope,intercept))\n",
    "        else:\n",
    "            right_fit.append((slope,intercept))\n",
    "    left_avg=np.average(left_fit,axis=0)\n",
    "    right_avg=np.average(right_fit,axis=0)\n",
    "    if len(globals()['val1'])==0:\n",
    "        default(left_avg,right_avg)\n",
    "    left_line=new_coordinates(image,left_avg)\n",
    "    right_line=new_coordinates(image,right_avg)\n",
    "    return np.array([left_line,right_line])\n",
    "\n",
    "\n",
    "def new_coordinates(image,parameters):\n",
    "    try:\n",
    "        m,b = parameters\n",
    "    except TypeError:\n",
    "        m,b = globals()['val1']\n",
    "    y1=image.shape[0]\n",
    "    y2=int(y1*2/3)\n",
    "    x1=int((y1-b)/m)\n",
    "    x2=int((y2-b)/m)\n",
    "    return np.array([x1,y1,x2,y2])"
   ]
  },
  {
   "cell_type": "markdown",
   "id": "cffb958c",
   "metadata": {},
   "source": [
    "#### Performing these operations on an image"
   ]
  },
  {
   "cell_type": "code",
   "execution_count": 5,
   "id": "0cb28d8f",
   "metadata": {},
   "outputs": [
    {
     "data": {
      "text/plain": [
       "-1"
      ]
     },
     "execution_count": 5,
     "metadata": {},
     "output_type": "execute_result"
    }
   ],
   "source": [
    "image=cv2.imread('C:/Users/chhay/Downloads/test_image.jpg')\n",
    "\n",
    "# Converting the image to gray level image\n",
    "image2=np.copy(image)\n",
    "gray_image=cv2.cvtColor(image2,cv2.COLOR_RGB2GRAY)\n",
    "\n",
    "# Detecting the edges og the image\n",
    "blur=cv2.GaussianBlur(gray_image,(5,5),0)\n",
    "canny=cv2.Canny(blur,50,100)\n",
    "\n",
    "# Determining the region of interest\n",
    "cropped_image=region_of_interest(canny)\n",
    "\n",
    "# Detecting the lines and optimizing them\n",
    "lines=cv2.HoughLinesP(cropped_image,3,np.pi/180,100,np.array([]),minLineLength=45,maxLineGap=6)\n",
    "average_lines=averaged_slope_intercept(image2,lines)\n",
    "line_image=display_lines(image2,average_lines)\n",
    "\n",
    "# To display line image and original image together\n",
    "lines_on_image=cv2.addWeighted(line_image,0.6,image2,1,1)\n",
    "cv2.imshow(\"Res\",lines_on_image)\n",
    "cv2.waitKey(0)"
   ]
  },
  {
   "cell_type": "markdown",
   "id": "456cb701",
   "metadata": {},
   "source": [
    "#### Performing these operations on a video"
   ]
  },
  {
   "cell_type": "code",
   "execution_count": 6,
   "id": "52a505f6",
   "metadata": {},
   "outputs": [
    {
     "name": "stderr",
     "output_type": "stream",
     "text": [
      "C:\\Users\\chhay\\anaconda3\\lib\\site-packages\\numpy\\lib\\function_base.py:518: RuntimeWarning: Mean of empty slice.\n",
      "  avg = a.mean(axis, **keepdims_kw)\n",
      "C:\\Users\\chhay\\anaconda3\\lib\\site-packages\\numpy\\core\\_methods.py:190: RuntimeWarning: invalid value encountered in double_scalars\n",
      "  ret = ret.dtype.type(ret / rcount)\n"
     ]
    }
   ],
   "source": [
    "cap=cv2.VideoCapture(\"C:/Users/chhay/Downloads/test2.mp4\")\n",
    "while(cap.isOpened()):\n",
    "    ret,frame=cap.read() \n",
    "    if not ret:\n",
    "        break\n",
    "    gray_image=cv2.cvtColor(frame,cv2.COLOR_RGB2GRAY)\n",
    "    blur=cv2.GaussianBlur(gray_image,(5,5),0)\n",
    "    canny_image=cv2.Canny(blur,50,100)\n",
    "    \n",
    "    # Determining the region of interest\n",
    "    cropped_image=region_of_interest(canny_image)\n",
    "\n",
    "    # Detecting the lines and optimizing them\n",
    "    lines=cv2.HoughLinesP(cropped_image,3,np.pi/180,100,np.array([]),minLineLength=45,maxLineGap=6)\n",
    "    average_lines=averaged_slope_intercept(frame,lines)\n",
    "    line_image=display_lines(frame,average_lines)\n",
    "\n",
    "    # To display line image and original image together\n",
    "    lines_on_image=cv2.addWeighted(line_image,0.6,frame,1,1)\n",
    "    cv2.imshow(\"Res\",lines_on_image)\n",
    "    k = cv2.waitKey(1) & 0xFF\n",
    "    if k  == 27:\n",
    "        break\n",
    "    \n",
    "cap.release()\n",
    "cv2.destroyAllWindows()"
   ]
  }
 ],
 "metadata": {
  "kernelspec": {
   "display_name": "Python 3 (ipykernel)",
   "language": "python",
   "name": "python3"
  },
  "language_info": {
   "codemirror_mode": {
    "name": "ipython",
    "version": 3
   },
   "file_extension": ".py",
   "mimetype": "text/x-python",
   "name": "python",
   "nbconvert_exporter": "python",
   "pygments_lexer": "ipython3",
   "version": "3.10.9"
  }
 },
 "nbformat": 4,
 "nbformat_minor": 5
}
